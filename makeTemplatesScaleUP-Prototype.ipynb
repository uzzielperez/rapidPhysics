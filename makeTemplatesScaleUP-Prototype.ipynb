{
 "cells": [
  {
   "cell_type": "code",
   "execution_count": 5,
   "id": "ce45cc17",
   "metadata": {},
   "outputs": [
    {
     "name": "stdout",
     "output_type": "stream",
     "text": [
      "Welcome to JupyROOT 6.24/04\n"
     ]
    }
   ],
   "source": [
    "import ROOT\n",
    "import os\n",
    "import numpy as np\n",
    "import argparse"
   ]
  },
  {
   "cell_type": "markdown",
   "id": "e36f4c79",
   "metadata": {},
   "source": [
    "# Template Types\n",
    "\n",
    "* Note: Redo Numerator - DONE\n",
    "* Denominator - DONE\n",
    "* Redo Real (with ID) - DONE\n",
    "* Redo MCFakes (with ID)\n",
    "\n",
    "For Closure Test first "
   ]
  },
  {
   "cell_type": "code",
   "execution_count": 212,
   "id": "0247210a",
   "metadata": {},
   "outputs": [],
   "source": [
    "templateType = \"MCFakes\"\n",
    "outFileName = \"%s.root\" %(templateType)"
   ]
  },
  {
   "cell_type": "code",
   "execution_count": 213,
   "id": "5a7c21de",
   "metadata": {},
   "outputs": [],
   "source": [
    "def chainFiles(templateType):\n",
    "    tChain = ROOT.TChain(\"demo/EventTree\")\n",
    "  \n",
    "    if (templateType == \"Numerator\" or \"Denominator\" or \"MCFakes\"):\n",
    "        tChain.Add(\"nTuple_GGJets_Pt-15_13TeV-sherpa_evt71999.root\")\n",
    "        tChain.Add(\"nTuple_QCD_Pt15to7000_TuneCP5_Flat2018_pythia8_evt78000.root\")\n",
    "    \n",
    "    if (templateType == \"Real\"):\n",
    "        tChain.Add(\"nTuple_GGGJets_Pt-15_13TeV-sherpa_evt17800.root\")\n",
    "    \n",
    "    print ('Total number of events: ' + str(tChain.GetEntries()))\n",
    "    return tChain"
   ]
  },
  {
   "cell_type": "code",
   "execution_count": 214,
   "id": "379b8e1a",
   "metadata": {},
   "outputs": [
    {
     "name": "stdout",
     "output_type": "stream",
     "text": [
      "Total number of events: 149999\n"
     ]
    }
   ],
   "source": [
    "tChain = chainFiles(templateType)\n",
    "maxEvents = tChain.GetEntries()"
   ]
  },
  {
   "cell_type": "markdown",
   "id": "78b7d946",
   "metadata": {},
   "source": [
    "# Selections for Template Types"
   ]
  },
  {
   "cell_type": "code",
   "execution_count": 215,
   "id": "fdc62ad8",
   "metadata": {},
   "outputs": [],
   "source": [
    "def passNumeratorCuts(phoIDbit):\n",
    "    # Everything that passes the 94X tight cutbased ID \n",
    "    passStatus = True if phoIDbit>>1&2 != 0 else False\n",
    "    return passStatus  "
   ]
  },
  {
   "cell_type": "code",
   "execution_count": 216,
   "id": "312557a0",
   "metadata": {},
   "outputs": [],
   "source": [
    "def passDenominatorCuts(looseID, phoEleVeto, phoHoverE, phoPFChIso, phoSieSie, etaBin):\n",
    "    # Denominator - collection of objects that passes a looser version of the 94X tight cutbased ID \n",
    "   \n",
    "#     passlooserID = False\n",
    "    failHoverE   = False \n",
    "    failSieie    = False \n",
    "    failChiso    = False \n",
    "    passEleVeto  = phoEleVeto\n",
    "    passAdditionalHoverE = False \n",
    "    \n",
    "#     if (looseID>>1&1 != 0): \n",
    "#         passlooserID = True\n",
    "        \n",
    "    if (phoHoverE > 0.05):\n",
    "        failHoverE = True\n",
    "    \n",
    "    # Sieie \n",
    "    sieiecut = 0.0105 if etaBin == \"EB\" else 0.0280\n",
    "    if (phoSieSie > sieiecut):\n",
    "        failSieie = True \n",
    "    if (phoPFChIso > 5):\n",
    "        failChiso = True\n",
    "    \n",
    "    if (phoHoverE < 0.1): \n",
    "        passAdditionalHoverE = True\n",
    "        \n",
    "    failAtLeastOne = failHoverE or failSieie or failChiso\n",
    "    \n",
    "    passStatus = passEleVeto and passAdditionalHoverE and failAtLeastOne\n",
    "    \n",
    "    return passStatus\n",
    "    "
   ]
  },
  {
   "cell_type": "code",
   "execution_count": 217,
   "id": "af884d77",
   "metadata": {},
   "outputs": [],
   "source": [
    "def has_mcPho_match(event, pho_vec, minDr=0.3):\n",
    "    min_delta_r = float('Inf')\n",
    "    pid = 0 \n",
    "    for mc in range(event.nMC):\n",
    "        if event.mcPt[mc] > 1.0:\n",
    "            mc_vec = ROOT.TLorentzVector()\n",
    "            mc_vec.SetPtEtaPhiE(event.mcPt[mc], event.mcEta[mc], event.mcPhi[mc], event.mcE[mc])\n",
    "            delta_r = pho_vec.DeltaR(mc_vec)\n",
    "            if delta_r < min_delta_r: \n",
    "                min_delta_r = delta_r\n",
    "                if delta_r < minDr:\n",
    "                    pid = abs(event.mcPID[mc])\n",
    "    if pid == 22: return True \n",
    "    return False"
   ]
  },
  {
   "cell_type": "code",
   "execution_count": 218,
   "id": "6e565a05",
   "metadata": {},
   "outputs": [],
   "source": [
    "def passRealCuts(phoIDbit, event, pho_vec, minDr=0.3):\n",
    "    passID = True if phoIDbit>>1&2 != 0 else False\n",
    "    passStatus = passID and has_mcPho_match(event,  pho_vec, minDr)\n",
    "    return passStatus"
   ]
  },
  {
   "cell_type": "code",
   "execution_count": 250,
   "id": "a1909b3a",
   "metadata": {},
   "outputs": [],
   "source": [
    "def passMCFakeCuts(phoIDbit, event, pho_vec, minDr=0.3):\n",
    "    failID = True if phoIDbit>>1&2 == 0 else False\n",
    "    noGenMatchReq = True if has_mcPho_match(event,  pho_vec, minDr) == False else False\n",
    "    \n",
    "    passStatus = failID and noGenMatchReq\n",
    "    return passStatus"
   ]
  },
  {
   "cell_type": "code",
   "execution_count": 251,
   "id": "1b14ff48",
   "metadata": {},
   "outputs": [],
   "source": [
    "def passTemplateSelections(templateType, phoIDbit, eleVeto, HoverE, ChIso, Sieie, etaBin, event, pho_vec, minDr=0.3):\n",
    "    if (templateType == \"Numerator\"):\n",
    "        return passNumeratorCuts(phoIDbit)\n",
    "    if (templateType == \"Denominator\"):\n",
    "        return passDenominatorCuts(phoIDbit, eleVeto, HoverE, ChIso, Sieie, etaBin)\n",
    "    if (templateType == \"Real\"):\n",
    "        return passRealCuts(phoIDbit, event, pho_vec, minDr)\n",
    "    if (templateType == \"MCFakes\"):\n",
    "        return passMCFakeCuts(phoIDbit, event, pho_vec, minDr)"
   ]
  },
  {
   "cell_type": "code",
   "execution_count": 252,
   "id": "8ef00c77",
   "metadata": {},
   "outputs": [],
   "source": [
    "def etaBinStr(phoEta):\n",
    "    if (abs( phoEta < 1.4442 )):\n",
    "        return \"EB\"\n",
    "    if (1.5666 < phoEta < 2.5):\n",
    "        return \"EE\""
   ]
  },
  {
   "cell_type": "markdown",
   "id": "0d8c8bbc",
   "metadata": {},
   "source": [
    "# Fill Templates"
   ]
  },
  {
   "cell_type": "code",
   "execution_count": 253,
   "id": "fc20b2e9",
   "metadata": {},
   "outputs": [],
   "source": [
    "fileOut = ROOT.TFile(outFileName, 'RECREATE')"
   ]
  },
  {
   "cell_type": "code",
   "execution_count": 254,
   "id": "93aba20a",
   "metadata": {},
   "outputs": [],
   "source": [
    "nbinsSieieEB = 50 # 200 for data, 50 for closure test\n",
    "nbinsSieieEE = 25 # 100 for data, 25 for closure test\n",
    "nbinsChIso   = 50 # 100 for data, 50 for closure test"
   ]
  },
  {
   "cell_type": "code",
   "execution_count": 255,
   "id": "de7d9fa1",
   "metadata": {},
   "outputs": [],
   "source": [
    "# FIX ME: Turn this into an array and then for loop of histograms based on pT sidebands later if we need to\n",
    "hSieieEB_pT15_30  = ROOT.TH1D( 'hSieieEB%s_pT15_30'  %(templateType), 'sieieEB', nbinsSieieEB, 0., 0.1)\n",
    "hSieieEB_pT30_50  = ROOT.TH1D( 'hSieieEB%s_pT30_50'  %(templateType), 'sieieEB', nbinsSieieEB, 0., 0.1)\n",
    "hSieieEB_pT50_70  = ROOT.TH1D( 'hSieieEB%s_pT50_70'  %(templateType), 'sieieEB', nbinsSieieEB, 0., 0.1)\n",
    "hSieieEB_pT70_90  = ROOT.TH1D( 'hSieieEB%s_pT70_90'  %(templateType), 'sieieEB', nbinsSieieEB, 0., 0.1 )\n",
    "hSieieEB_pT90_110 = ROOT.TH1D( 'hSieieEB%s_pT90_110' %(templateType), 'sieieEB', nbinsSieieEB, 0., 0.1 )\n",
    "hSieieEB_pT110_130 = ROOT.TH1D( 'hSieieEB%s_pT110_130' %(templateType), 'sieieEB', nbinsSieieEB, 0., 0.1 )"
   ]
  },
  {
   "cell_type": "code",
   "execution_count": 256,
   "id": "cc175704",
   "metadata": {},
   "outputs": [],
   "source": [
    "hSieieEB_pT15_30.Sumw2()\n",
    "hSieieEB_pT30_50.Sumw2()\n",
    "hSieieEB_pT50_70.Sumw2()\n",
    "hSieieEB_pT70_90.Sumw2()\n",
    "hSieieEB_pT90_110.Sumw2()\n",
    "hSieieEB_pT110_130.Sumw2()"
   ]
  },
  {
   "cell_type": "code",
   "execution_count": 257,
   "id": "99b5fd63",
   "metadata": {},
   "outputs": [
    {
     "name": "stdout",
     "output_type": "stream",
     "text": [
      "Processing entry 0\n",
      "Processing entry 10000\n",
      "Processing entry 20000\n",
      "Processing entry 30000\n",
      "Processing entry 40000\n",
      "Processing entry 50000\n",
      "Processing entry 60000\n",
      "Processing entry 70000\n",
      "Processing entry 80000\n",
      "Processing entry 90000\n",
      "Processing entry 100000\n",
      "Processing entry 110000\n",
      "Processing entry 120000\n",
      "Processing entry 130000\n",
      "Processing entry 140000\n",
      "DONE - MCFakes Templates\n"
     ]
    }
   ],
   "source": [
    "for ievent, event in enumerate(tChain):\n",
    "    if ievent > maxEvents and maxEvents != -1: break \n",
    "    if ievent % 10000 == 0: print ('Processing entry ' + str(ievent))\n",
    "    \n",
    "    for i in range(event.nPho):\n",
    "        phoE     = event.phoE[i]\n",
    "        phoPt    = event.phoEt[i]\n",
    "        phoIDbit = event.phoIDbit[i]\n",
    "        eleVeto  = event.phoEleVeto[i]\n",
    "        HoverE   = event.phoHoverE[i]\n",
    "        ChIso    = event.phoPFChIso[i]\n",
    "        Sieie    = event.phoSigmaIEtaIEtaFull5x5[i]\n",
    "        phoEta   = event.phoEta[i]\n",
    "        phoPhi   = event.phoPhi[i]\n",
    "        etaBin   = etaBinStr(phoEta)\n",
    "        pho_vec  = ROOT.TLorentzVector()\n",
    "        pho_vec.SetPtEtaPhiE(phoPt, phoEta, phoPhi, phoE)\n",
    "        minDr    = 0.3\n",
    "        \n",
    "        \n",
    "        if (passTemplateSelections(templateType, phoIDbit, eleVeto, HoverE, ChIso, Sieie, etaBin, event, pho_vec, minDr)):\n",
    "            # Fill Histograms\n",
    "            if ( 15 < phoPt < 30 ):\n",
    "                hSieieEB_pT15_30.Fill(Sieie)\n",
    "            if ( 30 < phoPt < 50 ):\n",
    "                hSieieEB_pT30_50.Fill(Sieie)\n",
    "            if ( 50 < phoPt < 70 ):\n",
    "                hSieieEB_pT50_70.Fill(Sieie)\n",
    "            if ( 70 < phoPt < 90 ):\n",
    "                hSieieEB_pT70_90.Fill(Sieie)\n",
    "            if ( 90 < phoPt < 110 ):\n",
    "                hSieieEB_pT90_110.Fill(Sieie)\n",
    "            if ( 110 < phoPt < 130 ):\n",
    "                hSieieEB_pT110_130.Fill(Sieie)\n",
    "\n",
    "fileOut.Write()\n",
    "fileOut.Close()\n",
    "print('DONE - %s Templates' %(templateType)) "
   ]
  },
  {
   "cell_type": "markdown",
   "id": "55274fe1",
   "metadata": {},
   "source": [
    "# Check Templates\n",
    "\n",
    "for quick debugging"
   ]
  },
  {
   "cell_type": "code",
   "execution_count": 258,
   "id": "1cbaaa92",
   "metadata": {},
   "outputs": [
    {
     "name": "stderr",
     "output_type": "stream",
     "text": [
      "Warning in <TCanvas::Constructor>: Deleting canvas with same name: c\n",
      "Info in <TCanvas::Print>: pdf file plots/MCFakesComparisons.pdf has been created\n"
     ]
    },
    {
     "data": {
      "image/png": "[encoded data removed]",
      "text/plain": [
       "<IPython.core.display.Image object>"
      ]
     },
     "metadata": {},
     "output_type": "display_data"
    }
   ],
   "source": [
    "f = ROOT.TFile(\"%s.root\" %(templateType), \"READ\")\n",
    "\n",
    "hTempSieiePT30_50 = f.Get(\"hSieieEB%s_pT30_50\" %(templateType))\n",
    "hTempSieiePT50_70 = f.Get(\"hSieieEB%s_pT50_70\" %(templateType))\n",
    "hTempSieiePT70_90  = f.Get(\"hSieieEB%s_pT70_90\" %(templateType))\n",
    "hTempSieiePT90_110 = f.Get(\"hSieieEB%s_pT90_110\" %(templateType))\n",
    "\n",
    "c = ROOT.TCanvas(\"c\")\n",
    "c.cd()\n",
    "\n",
    "hTempSieiePT30_50.Draw(\"HIST\") \n",
    "hTempSieiePT50_70.SetLineColor(2)\n",
    "hTempSieiePT50_70.Draw(\"HIST, SAME\")\n",
    "hTempSieiePT70_90.SetLineColor(3)\n",
    "hTempSieiePT90_110.SetLineColor(11)\n",
    "hTempSieiePT70_90.Draw(\"HIST, SAME\")\n",
    "hTempSieiePT90_110.Draw(\"HIST, SAME\")\n",
    "\n",
    "legend = ROOT.TLegend(0.7, 0.3, 0.85, 0.55)\n",
    "legend.AddEntry(hTempSieiePT30_50, \"pT 30-50\")\n",
    "legend.AddEntry(hTempSieiePT50_70, \"pT 50-70\")\n",
    "legend.AddEntry(hTempSieiePT70_90, \"pT 70-90\")\n",
    "legend.AddEntry(hTempSieiePT90_110, \"pT 90-110\")\n",
    "legend.Draw(\"SAME\")\n",
    "\n",
    "c.Draw()\n",
    "c.SaveAs('plots/%sComparisons.pdf' %(templateType))"
   ]
  },
  {
   "cell_type": "code",
   "execution_count": null,
   "id": "3205738c",
   "metadata": {},
   "outputs": [],
   "source": []
  },
  {
   "cell_type": "code",
   "execution_count": null,
   "id": "f18f2a37",
   "metadata": {},
   "outputs": [],
   "source": []
  }
 ],
 "metadata": {
  "kernelspec": {
   "display_name": "Python 3 (ipykernel)",
   "language": "python",
   "name": "python3"
  },
  "language_info": {
   "codemirror_mode": {
    "name": "ipython",
    "version": 3
   },
   "file_extension": ".py",
   "mimetype": "text/x-python",
   "name": "python",
   "nbconvert_exporter": "python",
   "pygments_lexer": "ipython3",
   "version": "3.9.7"
  }
 },
 "nbformat": 4,
 "nbformat_minor": 5
}
